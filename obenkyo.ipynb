{
  "nbformat": 4,
  "nbformat_minor": 0,
  "metadata": {
    "colab": {
      "name": "obenkyo",
      "provenance": []
    },
    "kernelspec": {
      "name": "python3",
      "display_name": "Python 3"
    },
    "language_info": {
      "name": "python"
    }
  },
  "cells": [
    {
      "cell_type": "code",
      "source": [
        "#初心者＆中級者向けの４つの書き方\n",
        "#①tf.keras - Sequential API（初心者向け）\n",
        "#②tf.keras - Sequential API\n",
        "#③tf.keras - Functional API\n",
        "#④tf.keras - Subclassing/Imperative API（おすすめらしい）(中級者向け)"
      ],
      "metadata": {
        "id": "0amLv-0WwBwx"
      },
      "execution_count": null,
      "outputs": []
    },
    {
      "cell_type": "code",
      "execution_count": 1,
      "metadata": {
        "id": "wKKapklTLDxS"
      },
      "outputs": [],
      "source": [
        "%tensorflow_version 2.x"
      ]
    },
    {
      "cell_type": "code",
      "source": [
        "!pip install playground-data"
      ],
      "metadata": {
        "colab": {
          "base_uri": "https://localhost:8080/"
        },
        "id": "dnUfzjfFVZf_",
        "outputId": "4ec41d9c-5b24-4372-85c4-a2e04fb88169"
      },
      "execution_count": 2,
      "outputs": [
        {
          "output_type": "stream",
          "name": "stdout",
          "text": [
            "Collecting playground-data\n",
            "  Downloading playground-data-1.1.1.tar.gz (19 kB)\n",
            "Requirement already satisfied: numpy in /usr/local/lib/python3.7/dist-packages (from playground-data) (1.19.5)\n",
            "Requirement already satisfied: matplotlib in /usr/local/lib/python3.7/dist-packages (from playground-data) (3.2.2)\n",
            "Requirement already satisfied: pyparsing!=2.0.4,!=2.1.2,!=2.1.6,>=2.0.1 in /usr/local/lib/python3.7/dist-packages (from matplotlib->playground-data) (3.0.6)\n",
            "Requirement already satisfied: kiwisolver>=1.0.1 in /usr/local/lib/python3.7/dist-packages (from matplotlib->playground-data) (1.3.2)\n",
            "Requirement already satisfied: cycler>=0.10 in /usr/local/lib/python3.7/dist-packages (from matplotlib->playground-data) (0.11.0)\n",
            "Requirement already satisfied: python-dateutil>=2.1 in /usr/local/lib/python3.7/dist-packages (from matplotlib->playground-data) (2.8.2)\n",
            "Requirement already satisfied: six>=1.5 in /usr/local/lib/python3.7/dist-packages (from python-dateutil>=2.1->matplotlib->playground-data) (1.15.0)\n",
            "Building wheels for collected packages: playground-data\n",
            "  Building wheel for playground-data (setup.py) ... \u001b[?25l\u001b[?25hdone\n",
            "  Created wheel for playground-data: filename=playground_data-1.1.1-py2.py3-none-any.whl size=20798 sha256=70297c953cbc92d06ebe1f7b76aaf1a26b5bc0731150b6f8613babcf648963c4\n",
            "  Stored in directory: /root/.cache/pip/wheels/0a/83/26/9701478cd2f31df42fcc7d2cf0fa3fd6ff23cf8e44346166f3\n",
            "Successfully built playground-data\n",
            "Installing collected packages: playground-data\n",
            "Successfully installed playground-data-1.1.1\n"
          ]
        }
      ]
    },
    {
      "cell_type": "code",
      "source": [
        "!pip install tensorflow"
      ],
      "metadata": {
        "colab": {
          "base_uri": "https://localhost:8080/"
        },
        "id": "LCmG9OLDLSN3",
        "outputId": "e2762f57-a722-4fac-d481-54ccff932e9b"
      },
      "execution_count": 3,
      "outputs": [
        {
          "output_type": "stream",
          "name": "stdout",
          "text": [
            "Requirement already satisfied: tensorflow in /usr/local/lib/python3.7/dist-packages (2.7.0)\n",
            "Requirement already satisfied: tensorflow-estimator<2.8,~=2.7.0rc0 in /usr/local/lib/python3.7/dist-packages (from tensorflow) (2.7.0)\n",
            "Requirement already satisfied: termcolor>=1.1.0 in /usr/local/lib/python3.7/dist-packages (from tensorflow) (1.1.0)\n",
            "Requirement already satisfied: absl-py>=0.4.0 in /usr/local/lib/python3.7/dist-packages (from tensorflow) (0.12.0)\n",
            "Requirement already satisfied: numpy>=1.14.5 in /usr/local/lib/python3.7/dist-packages (from tensorflow) (1.19.5)\n",
            "Requirement already satisfied: opt-einsum>=2.3.2 in /usr/local/lib/python3.7/dist-packages (from tensorflow) (3.3.0)\n",
            "Requirement already satisfied: wheel<1.0,>=0.32.0 in /usr/local/lib/python3.7/dist-packages (from tensorflow) (0.37.0)\n",
            "Requirement already satisfied: libclang>=9.0.1 in /usr/local/lib/python3.7/dist-packages (from tensorflow) (12.0.0)\n",
            "Requirement already satisfied: typing-extensions>=3.6.6 in /usr/local/lib/python3.7/dist-packages (from tensorflow) (3.10.0.2)\n",
            "Requirement already satisfied: gast<0.5.0,>=0.2.1 in /usr/local/lib/python3.7/dist-packages (from tensorflow) (0.4.0)\n",
            "Requirement already satisfied: keras<2.8,>=2.7.0rc0 in /usr/local/lib/python3.7/dist-packages (from tensorflow) (2.7.0)\n",
            "Requirement already satisfied: grpcio<2.0,>=1.24.3 in /usr/local/lib/python3.7/dist-packages (from tensorflow) (1.42.0)\n",
            "Requirement already satisfied: astunparse>=1.6.0 in /usr/local/lib/python3.7/dist-packages (from tensorflow) (1.6.3)\n",
            "Requirement already satisfied: keras-preprocessing>=1.1.1 in /usr/local/lib/python3.7/dist-packages (from tensorflow) (1.1.2)\n",
            "Requirement already satisfied: wrapt>=1.11.0 in /usr/local/lib/python3.7/dist-packages (from tensorflow) (1.13.3)\n",
            "Requirement already satisfied: tensorflow-io-gcs-filesystem>=0.21.0 in /usr/local/lib/python3.7/dist-packages (from tensorflow) (0.22.0)\n",
            "Requirement already satisfied: google-pasta>=0.1.1 in /usr/local/lib/python3.7/dist-packages (from tensorflow) (0.2.0)\n",
            "Requirement already satisfied: tensorboard~=2.6 in /usr/local/lib/python3.7/dist-packages (from tensorflow) (2.7.0)\n",
            "Requirement already satisfied: flatbuffers<3.0,>=1.12 in /usr/local/lib/python3.7/dist-packages (from tensorflow) (2.0)\n",
            "Requirement already satisfied: h5py>=2.9.0 in /usr/local/lib/python3.7/dist-packages (from tensorflow) (3.1.0)\n",
            "Requirement already satisfied: protobuf>=3.9.2 in /usr/local/lib/python3.7/dist-packages (from tensorflow) (3.17.3)\n",
            "Requirement already satisfied: six>=1.12.0 in /usr/local/lib/python3.7/dist-packages (from tensorflow) (1.15.0)\n",
            "Requirement already satisfied: cached-property in /usr/local/lib/python3.7/dist-packages (from h5py>=2.9.0->tensorflow) (1.5.2)\n",
            "Requirement already satisfied: requests<3,>=2.21.0 in /usr/local/lib/python3.7/dist-packages (from tensorboard~=2.6->tensorflow) (2.23.0)\n",
            "Requirement already satisfied: werkzeug>=0.11.15 in /usr/local/lib/python3.7/dist-packages (from tensorboard~=2.6->tensorflow) (1.0.1)\n",
            "Requirement already satisfied: google-auth-oauthlib<0.5,>=0.4.1 in /usr/local/lib/python3.7/dist-packages (from tensorboard~=2.6->tensorflow) (0.4.6)\n",
            "Requirement already satisfied: markdown>=2.6.8 in /usr/local/lib/python3.7/dist-packages (from tensorboard~=2.6->tensorflow) (3.3.6)\n",
            "Requirement already satisfied: google-auth<3,>=1.6.3 in /usr/local/lib/python3.7/dist-packages (from tensorboard~=2.6->tensorflow) (1.35.0)\n",
            "Requirement already satisfied: setuptools>=41.0.0 in /usr/local/lib/python3.7/dist-packages (from tensorboard~=2.6->tensorflow) (57.4.0)\n",
            "Requirement already satisfied: tensorboard-plugin-wit>=1.6.0 in /usr/local/lib/python3.7/dist-packages (from tensorboard~=2.6->tensorflow) (1.8.0)\n",
            "Requirement already satisfied: tensorboard-data-server<0.7.0,>=0.6.0 in /usr/local/lib/python3.7/dist-packages (from tensorboard~=2.6->tensorflow) (0.6.1)\n",
            "Requirement already satisfied: pyasn1-modules>=0.2.1 in /usr/local/lib/python3.7/dist-packages (from google-auth<3,>=1.6.3->tensorboard~=2.6->tensorflow) (0.2.8)\n",
            "Requirement already satisfied: cachetools<5.0,>=2.0.0 in /usr/local/lib/python3.7/dist-packages (from google-auth<3,>=1.6.3->tensorboard~=2.6->tensorflow) (4.2.4)\n",
            "Requirement already satisfied: rsa<5,>=3.1.4 in /usr/local/lib/python3.7/dist-packages (from google-auth<3,>=1.6.3->tensorboard~=2.6->tensorflow) (4.8)\n",
            "Requirement already satisfied: requests-oauthlib>=0.7.0 in /usr/local/lib/python3.7/dist-packages (from google-auth-oauthlib<0.5,>=0.4.1->tensorboard~=2.6->tensorflow) (1.3.0)\n",
            "Requirement already satisfied: importlib-metadata>=4.4 in /usr/local/lib/python3.7/dist-packages (from markdown>=2.6.8->tensorboard~=2.6->tensorflow) (4.8.2)\n",
            "Requirement already satisfied: zipp>=0.5 in /usr/local/lib/python3.7/dist-packages (from importlib-metadata>=4.4->markdown>=2.6.8->tensorboard~=2.6->tensorflow) (3.6.0)\n",
            "Requirement already satisfied: pyasn1<0.5.0,>=0.4.6 in /usr/local/lib/python3.7/dist-packages (from pyasn1-modules>=0.2.1->google-auth<3,>=1.6.3->tensorboard~=2.6->tensorflow) (0.4.8)\n",
            "Requirement already satisfied: idna<3,>=2.5 in /usr/local/lib/python3.7/dist-packages (from requests<3,>=2.21.0->tensorboard~=2.6->tensorflow) (2.10)\n",
            "Requirement already satisfied: chardet<4,>=3.0.2 in /usr/local/lib/python3.7/dist-packages (from requests<3,>=2.21.0->tensorboard~=2.6->tensorflow) (3.0.4)\n",
            "Requirement already satisfied: certifi>=2017.4.17 in /usr/local/lib/python3.7/dist-packages (from requests<3,>=2.21.0->tensorboard~=2.6->tensorflow) (2021.10.8)\n",
            "Requirement already satisfied: urllib3!=1.25.0,!=1.25.1,<1.26,>=1.21.1 in /usr/local/lib/python3.7/dist-packages (from requests<3,>=2.21.0->tensorboard~=2.6->tensorflow) (1.24.3)\n",
            "Requirement already satisfied: oauthlib>=3.0.0 in /usr/local/lib/python3.7/dist-packages (from requests-oauthlib>=0.7.0->google-auth-oauthlib<0.5,>=0.4.1->tensorboard~=2.6->tensorflow) (3.1.1)\n"
          ]
        }
      ]
    },
    {
      "cell_type": "code",
      "source": [
        "import tensorflow as tf\n",
        "from tensorflow.keras import layers"
      ],
      "metadata": {
        "id": "gaOM1svdLe5_"
      },
      "execution_count": 4,
      "outputs": []
    },
    {
      "cell_type": "code",
      "source": [
        "import plygdata as pg\n",
        "PROBLEM_DATA_TYPE = pg.DatasetType.ClassifyTwoGaussData"
      ],
      "metadata": {
        "id": "Iqjc2E0CWWOd"
      },
      "execution_count": 5,
      "outputs": []
    },
    {
      "cell_type": "code",
      "source": [
        "INPUT_FEATURES = 2\n",
        "LAYER1_NEURONS = 3\n",
        "LAYER2_NEURONS = 3\n",
        "OUTPUT_RESULTS = 1"
      ],
      "metadata": {
        "id": "9g0VoddXLsmy"
      },
      "execution_count": 6,
      "outputs": []
    },
    {
      "cell_type": "code",
      "source": [
        "#①tf.keras - Sequential API（初心者向け）\n",
        "model = tf.keras.models.Sequential([\n",
        "                                    \n",
        "#入力層&隠れ層１\n",
        "layers.Dense(\n",
        "    input_shape=(INPUT_FEATURES,),\n",
        "    name='layer1',\n",
        "    kernel_initializer='glorot_uniform',#重みの初期化の方法\n",
        "    bias_initializer='zeros',#バイアスの初期化の方法\n",
        "    units=LAYER1_NEURONS,#ユニットの数\n",
        "    activation='tanh'),#活性化関数\n",
        "#隠れ層２\n",
        "layers.Dense(\n",
        "    name='layer2',\n",
        "    kernel_initializer='glorot_uniform',\n",
        "    bias_initializer='zeros',\n",
        "    units=LAYER2_NEURONS,\n",
        "    activation='tanh'),\n",
        "#出力層 \n",
        "layers.Dense(\n",
        "    name='layer_out',\n",
        "    kernel_initializer='glorot_uniform',\n",
        "    bias_initializer='zeros',\n",
        "    units=OUTPUT_RESULTS,\n",
        "    activation='tanh'),],\n",
        "    name='sequential_constructor')\n",
        "\n",
        "#modelの概要を見るにはmodel.summary()\n",
        "model.summary()"
      ],
      "metadata": {
        "colab": {
          "base_uri": "https://localhost:8080/"
        },
        "id": "KGtZoylsL3z_",
        "outputId": "2723082b-3f3c-4f14-ecd4-39f962a2ce64"
      },
      "execution_count": 7,
      "outputs": [
        {
          "output_type": "stream",
          "name": "stdout",
          "text": [
            "Model: \"sequential_constructor\"\n",
            "_________________________________________________________________\n",
            " Layer (type)                Output Shape              Param #   \n",
            "=================================================================\n",
            " layer1 (Dense)              (None, 3)                 9         \n",
            "                                                                 \n",
            " layer2 (Dense)              (None, 3)                 12        \n",
            "                                                                 \n",
            " layer_out (Dense)           (None, 1)                 4         \n",
            "                                                                 \n",
            "=================================================================\n",
            "Total params: 25\n",
            "Trainable params: 25\n",
            "Non-trainable params: 0\n",
            "_________________________________________________________________\n"
          ]
        }
      ]
    },
    {
      "cell_type": "code",
      "source": [
        "tf.keras.backend.clear_session()\n",
        "del model"
      ],
      "metadata": {
        "id": "UKnsXsL-YR1U"
      },
      "execution_count": 8,
      "outputs": []
    },
    {
      "cell_type": "code",
      "source": [
        "#②tf.keras - Sequential API\n",
        "model = tf.keras.models.Sequential()\n",
        "\n",
        "model.add(layers.Dense(\n",
        "    input_shape=(INPUT_FEATURES,),\n",
        "    name='layer1',\n",
        "    units=LAYER1_NEURONS,\n",
        "    activation='tanh'\n",
        "))\n",
        "\n",
        "model.add(layers.Dense(\n",
        "    name='layer2',\n",
        "    units=LAYER2_NEURONS,\n",
        "    activation='tanh'\n",
        "))\n",
        "\n",
        "model.add(layers.Dense(\n",
        "    units=OUTPUT_RESULTS,\n",
        "    name='layer_out',\n",
        "    activation='tanh'\n",
        "))\n",
        "\n",
        "model.summary()"
      ],
      "metadata": {
        "colab": {
          "base_uri": "https://localhost:8080/"
        },
        "id": "rxP5AfOTYj1_",
        "outputId": "7d7b7e58-7f96-4f13-e645-8fb122a128d0"
      },
      "execution_count": 9,
      "outputs": [
        {
          "output_type": "stream",
          "name": "stdout",
          "text": [
            "Model: \"sequential\"\n",
            "_________________________________________________________________\n",
            " Layer (type)                Output Shape              Param #   \n",
            "=================================================================\n",
            " layer1 (Dense)              (None, 3)                 9         \n",
            "                                                                 \n",
            " layer2 (Dense)              (None, 3)                 12        \n",
            "                                                                 \n",
            " layer_out (Dense)           (None, 1)                 4         \n",
            "                                                                 \n",
            "=================================================================\n",
            "Total params: 25\n",
            "Trainable params: 25\n",
            "Non-trainable params: 0\n",
            "_________________________________________________________________\n"
          ]
        }
      ]
    },
    {
      "cell_type": "code",
      "source": [
        "tf.keras.backend.clear_session()\n",
        "del model"
      ],
      "metadata": {
        "id": "hAaDuounZgsG"
      },
      "execution_count": 10,
      "outputs": []
    },
    {
      "cell_type": "code",
      "source": [
        "#③tf.keras - Functional API\n",
        "activation1 = layers.Activation('tanh',\n",
        "                                name='activation1')\n",
        "activation2 = layers.Activation('tanh',\n",
        "                                name='activation2')\n",
        "acti_out = layers.Activation('tanh',\n",
        "                                name='acti_out')\n",
        "inputs = layers.Input(\n",
        "    name='layer_in',\n",
        "    shape=(INPUT_FEATURES,)\n",
        ")\n",
        "\n",
        "layer1 = layers.Dense(\n",
        "    name='layer1',\n",
        "    units=LAYER1_NEURONS\n",
        ")\n",
        "\n",
        "layer2 = layers.Dense(\n",
        "    name='layer2',\n",
        "    units=LAYER1_NEURONS\n",
        ")\n",
        "\n",
        "layer_out = layers.Dense(\n",
        "    name='layer_out',\n",
        "    units=OUTPUT_RESULTS\n",
        ")\n",
        "\n",
        "x1 = activation1(layer1(inputs))\n",
        "x2 = activation2(layer2(x1))\n",
        "outputs = acti_out(layer_out(x2))\n",
        "\n",
        "model = tf.keras.Model(inputs=inputs, outputs=outputs,\n",
        "                       name='model_constructor')\n",
        "\n",
        "model.summary()\n"
      ],
      "metadata": {
        "colab": {
          "base_uri": "https://localhost:8080/"
        },
        "id": "9I6qp2JAahKE",
        "outputId": "b02b1241-bd15-4dae-b59a-8a196f05e98c"
      },
      "execution_count": 11,
      "outputs": [
        {
          "output_type": "stream",
          "name": "stdout",
          "text": [
            "Model: \"model_constructor\"\n",
            "_________________________________________________________________\n",
            " Layer (type)                Output Shape              Param #   \n",
            "=================================================================\n",
            " layer_in (InputLayer)       [(None, 2)]               0         \n",
            "                                                                 \n",
            " layer1 (Dense)              (None, 3)                 9         \n",
            "                                                                 \n",
            " activation1 (Activation)    (None, 3)                 0         \n",
            "                                                                 \n",
            " layer2 (Dense)              (None, 3)                 12        \n",
            "                                                                 \n",
            " activation2 (Activation)    (None, 3)                 0         \n",
            "                                                                 \n",
            " layer_out (Dense)           (None, 1)                 4         \n",
            "                                                                 \n",
            " acti_out (Activation)       (None, 1)                 0         \n",
            "                                                                 \n",
            "=================================================================\n",
            "Total params: 25\n",
            "Trainable params: 25\n",
            "Non-trainable params: 0\n",
            "_________________________________________________________________\n"
          ]
        }
      ]
    },
    {
      "cell_type": "code",
      "source": [
        "tf.keras.backend.clear_session()\n",
        "del model"
      ],
      "metadata": {
        "id": "QcewWZ1teeCA"
      },
      "execution_count": 12,
      "outputs": []
    },
    {
      "cell_type": "code",
      "source": [
        "#④tf.keras - Subclassing/Imperative API（おすすめらしい）\n",
        "activation1 = layers.Activation('tanh',\n",
        "                               name='activation1')\n",
        "activation2 = layers.Activation('tanh',\n",
        "                                name='activation2')\n",
        "acti_out = layers.Activation('tanh',\n",
        "                             name='acti_out')\n",
        "\n",
        "# tf.keras.Modelをサブクラス化してモデルを定義\n",
        "class NeuralNetwork(tf.keras.Model):\n",
        "  # ### レイヤーを定義 ###\n",
        "  def __init__(self, *args, **kwargs):\n",
        "    super(NeuralNetwork, self).__init__(*args, **kwargs)\n",
        "\n",
        "    #入力層は定義不要、実際の入力によってきまる\n",
        "    #隠れ層１\n",
        "    self.layer1 = layers.Dense(\n",
        "        name='layer1',\n",
        "        units=LAYER1_NEURONS\n",
        "    )\n",
        "    \n",
        "    #隠れ層２\n",
        "    self.layer2 = layers.Dense(\n",
        "        name='layer2',\n",
        "        units=LAYER2_NEURONS\n",
        "    )\n",
        "\n",
        "    #出力層\n",
        "    self.layer_out = layers.Dense(\n",
        "        name='layer_out',\n",
        "        units=OUTPUT_RESULTS\n",
        "    )\n",
        "\n",
        "  # ### フォワードパスを定義 ###\n",
        "  def call(self, inputs, training=None):# 入力と、訓練／評価モード\n",
        "    # 「出力＝活性化関数（第n層（入力））」の形式で記述\n",
        "    x1 = activation1(self.layer1(inputs))\n",
        "    x2 = activation2(self.layer2(x1))\n",
        "    outputs = acti_out(self.layer_out(x2))\n",
        "    return outputs\n",
        "\n",
        "  # ### モデルの生成 ###\n",
        "model = tf.keras.Model(inputs=inputs, outputs=outputs,\n",
        "                         name='model_constructor')\n",
        "model = NeuralNetwork()\n",
        "  #この書き方だとmodel.summary()は使えない\n",
        "  #なぜなら、Subclassingモデルは実行した段階で計算グラフが動的に構築される仕様だからである。\n",
        "  #つまり、訓練を実行した後なら使える"
      ],
      "metadata": {
        "id": "WUjCqiIJcjdr"
      },
      "execution_count": 14,
      "outputs": []
    },
    {
      "cell_type": "code",
      "source": [
        "import tensorflow.keras.backend as K\n",
        "\n",
        "def tanh_accuracy(y_true, y_pred):           # y_trueは正解、y_predは予測（出力）\n",
        "  threshold = K.cast(0.0, y_pred.dtype)              # -1か1かを分ける閾値を作成\n",
        "  y_pred = K.cast(y_pred >= threshold, y_pred.dtype) # 閾値未満で0、以上で1に変換\n",
        "  # 2倍して-1.0することで、0／1を-1.0／1.0にスケール変換して正解率を計算\n",
        "  return K.mean(K.equal(y_true, y_pred * 2 - 1.0), axis=-1)"
      ],
      "metadata": {
        "id": "FjMXRKzwXex-"
      },
      "execution_count": 15,
      "outputs": []
    },
    {
      "cell_type": "code",
      "source": [
        "TRAINING_DATA_RATIO = 0.5\n",
        "DATA_NOISE = 0.0\n",
        "\n",
        "data_list = pg.generate_data(PROBLEM_DATA_TYPE, DATA_NOISE)\n",
        "\n",
        "X_train, y_train, X_valid, y_valid = pg.split_data(data_list, training_size=TRAINING_DATA_RATIO)"
      ],
      "metadata": {
        "id": "frUzsQBCWqce"
      },
      "execution_count": 16,
      "outputs": []
    },
    {
      "cell_type": "code",
      "source": [
        "model.compile(tf.keras.optimizers.SGD(learning_rate=0.03), 'mean_squared_error',\n",
        "              [tanh_accuracy])\n",
        "model.fit(X_train, y_train, validation_data=(X_valid, y_valid), batch_size=15, epochs=100,\n",
        "          verbose=1\n",
        ")\n",
        "model.predict([[0.1, -0.2]])"
      ],
      "metadata": {
        "colab": {
          "base_uri": "https://localhost:8080/"
        },
        "id": "vpyDAgWxuHQJ",
        "outputId": "b2be2ce2-9cc4-4a41-b854-0b5f3f19e4a9"
      },
      "execution_count": 17,
      "outputs": [
        {
          "output_type": "stream",
          "name": "stdout",
          "text": [
            "Epoch 1/100\n",
            "17/17 [==============================] - 2s 28ms/step - loss: 0.3106 - tanh_accuracy: 0.9400 - val_loss: 0.0780 - val_tanh_accuracy: 1.0000\n",
            "Epoch 2/100\n",
            "17/17 [==============================] - 0s 7ms/step - loss: 0.0532 - tanh_accuracy: 1.0000 - val_loss: 0.0370 - val_tanh_accuracy: 1.0000\n",
            "Epoch 3/100\n",
            "17/17 [==============================] - 0s 7ms/step - loss: 0.0294 - tanh_accuracy: 1.0000 - val_loss: 0.0240 - val_tanh_accuracy: 1.0000\n",
            "Epoch 4/100\n",
            "17/17 [==============================] - 0s 8ms/step - loss: 0.0203 - tanh_accuracy: 1.0000 - val_loss: 0.0176 - val_tanh_accuracy: 1.0000\n",
            "Epoch 5/100\n",
            "17/17 [==============================] - 0s 9ms/step - loss: 0.0154 - tanh_accuracy: 1.0000 - val_loss: 0.0139 - val_tanh_accuracy: 1.0000\n",
            "Epoch 6/100\n",
            "17/17 [==============================] - 0s 8ms/step - loss: 0.0124 - tanh_accuracy: 1.0000 - val_loss: 0.0115 - val_tanh_accuracy: 1.0000\n",
            "Epoch 7/100\n",
            "17/17 [==============================] - 0s 10ms/step - loss: 0.0104 - tanh_accuracy: 1.0000 - val_loss: 0.0098 - val_tanh_accuracy: 1.0000\n",
            "Epoch 8/100\n",
            "17/17 [==============================] - 0s 12ms/step - loss: 0.0089 - tanh_accuracy: 1.0000 - val_loss: 0.0085 - val_tanh_accuracy: 1.0000\n",
            "Epoch 9/100\n",
            "17/17 [==============================] - 0s 11ms/step - loss: 0.0078 - tanh_accuracy: 1.0000 - val_loss: 0.0075 - val_tanh_accuracy: 1.0000\n",
            "Epoch 10/100\n",
            "17/17 [==============================] - 0s 8ms/step - loss: 0.0070 - tanh_accuracy: 1.0000 - val_loss: 0.0067 - val_tanh_accuracy: 1.0000\n",
            "Epoch 11/100\n",
            "17/17 [==============================] - 0s 13ms/step - loss: 0.0063 - tanh_accuracy: 1.0000 - val_loss: 0.0061 - val_tanh_accuracy: 1.0000\n",
            "Epoch 12/100\n",
            "17/17 [==============================] - 0s 8ms/step - loss: 0.0057 - tanh_accuracy: 1.0000 - val_loss: 0.0056 - val_tanh_accuracy: 1.0000\n",
            "Epoch 13/100\n",
            "17/17 [==============================] - 0s 13ms/step - loss: 0.0052 - tanh_accuracy: 1.0000 - val_loss: 0.0051 - val_tanh_accuracy: 1.0000\n",
            "Epoch 14/100\n",
            "17/17 [==============================] - 0s 18ms/step - loss: 0.0048 - tanh_accuracy: 1.0000 - val_loss: 0.0047 - val_tanh_accuracy: 1.0000\n",
            "Epoch 15/100\n",
            "17/17 [==============================] - 0s 11ms/step - loss: 0.0045 - tanh_accuracy: 1.0000 - val_loss: 0.0044 - val_tanh_accuracy: 1.0000\n",
            "Epoch 16/100\n",
            "17/17 [==============================] - 0s 13ms/step - loss: 0.0042 - tanh_accuracy: 1.0000 - val_loss: 0.0041 - val_tanh_accuracy: 1.0000\n",
            "Epoch 17/100\n",
            "17/17 [==============================] - 0s 11ms/step - loss: 0.0039 - tanh_accuracy: 1.0000 - val_loss: 0.0039 - val_tanh_accuracy: 1.0000\n",
            "Epoch 18/100\n",
            "17/17 [==============================] - 0s 5ms/step - loss: 0.0037 - tanh_accuracy: 1.0000 - val_loss: 0.0036 - val_tanh_accuracy: 1.0000\n",
            "Epoch 19/100\n",
            "17/17 [==============================] - 0s 4ms/step - loss: 0.0035 - tanh_accuracy: 1.0000 - val_loss: 0.0034 - val_tanh_accuracy: 1.0000\n",
            "Epoch 20/100\n",
            "17/17 [==============================] - 0s 4ms/step - loss: 0.0033 - tanh_accuracy: 1.0000 - val_loss: 0.0033 - val_tanh_accuracy: 1.0000\n",
            "Epoch 21/100\n",
            "17/17 [==============================] - 0s 7ms/step - loss: 0.0031 - tanh_accuracy: 1.0000 - val_loss: 0.0031 - val_tanh_accuracy: 1.0000\n",
            "Epoch 22/100\n",
            "17/17 [==============================] - 0s 12ms/step - loss: 0.0030 - tanh_accuracy: 1.0000 - val_loss: 0.0030 - val_tanh_accuracy: 1.0000\n",
            "Epoch 23/100\n",
            "17/17 [==============================] - 0s 11ms/step - loss: 0.0028 - tanh_accuracy: 1.0000 - val_loss: 0.0028 - val_tanh_accuracy: 1.0000\n",
            "Epoch 24/100\n",
            "17/17 [==============================] - 0s 10ms/step - loss: 0.0027 - tanh_accuracy: 1.0000 - val_loss: 0.0027 - val_tanh_accuracy: 1.0000\n",
            "Epoch 25/100\n",
            "17/17 [==============================] - 0s 8ms/step - loss: 0.0026 - tanh_accuracy: 1.0000 - val_loss: 0.0026 - val_tanh_accuracy: 1.0000\n",
            "Epoch 26/100\n",
            "17/17 [==============================] - 0s 7ms/step - loss: 0.0025 - tanh_accuracy: 1.0000 - val_loss: 0.0025 - val_tanh_accuracy: 1.0000\n",
            "Epoch 27/100\n",
            "17/17 [==============================] - 0s 8ms/step - loss: 0.0024 - tanh_accuracy: 1.0000 - val_loss: 0.0024 - val_tanh_accuracy: 1.0000\n",
            "Epoch 28/100\n",
            "17/17 [==============================] - 0s 8ms/step - loss: 0.0023 - tanh_accuracy: 1.0000 - val_loss: 0.0023 - val_tanh_accuracy: 1.0000\n",
            "Epoch 29/100\n",
            "17/17 [==============================] - 0s 8ms/step - loss: 0.0022 - tanh_accuracy: 1.0000 - val_loss: 0.0022 - val_tanh_accuracy: 1.0000\n",
            "Epoch 30/100\n",
            "17/17 [==============================] - 0s 18ms/step - loss: 0.0021 - tanh_accuracy: 1.0000 - val_loss: 0.0021 - val_tanh_accuracy: 1.0000\n",
            "Epoch 31/100\n",
            "17/17 [==============================] - 0s 9ms/step - loss: 0.0021 - tanh_accuracy: 1.0000 - val_loss: 0.0021 - val_tanh_accuracy: 1.0000\n",
            "Epoch 32/100\n",
            "17/17 [==============================] - 0s 8ms/step - loss: 0.0020 - tanh_accuracy: 1.0000 - val_loss: 0.0020 - val_tanh_accuracy: 1.0000\n",
            "Epoch 33/100\n",
            "17/17 [==============================] - 0s 5ms/step - loss: 0.0019 - tanh_accuracy: 1.0000 - val_loss: 0.0019 - val_tanh_accuracy: 1.0000\n",
            "Epoch 34/100\n",
            "17/17 [==============================] - 0s 11ms/step - loss: 0.0019 - tanh_accuracy: 1.0000 - val_loss: 0.0019 - val_tanh_accuracy: 1.0000\n",
            "Epoch 35/100\n",
            "17/17 [==============================] - 0s 10ms/step - loss: 0.0018 - tanh_accuracy: 1.0000 - val_loss: 0.0018 - val_tanh_accuracy: 1.0000\n",
            "Epoch 36/100\n",
            "17/17 [==============================] - 0s 9ms/step - loss: 0.0018 - tanh_accuracy: 1.0000 - val_loss: 0.0018 - val_tanh_accuracy: 1.0000\n",
            "Epoch 37/100\n",
            "17/17 [==============================] - 0s 8ms/step - loss: 0.0017 - tanh_accuracy: 1.0000 - val_loss: 0.0017 - val_tanh_accuracy: 1.0000\n",
            "Epoch 38/100\n",
            "17/17 [==============================] - 0s 8ms/step - loss: 0.0017 - tanh_accuracy: 1.0000 - val_loss: 0.0017 - val_tanh_accuracy: 1.0000\n",
            "Epoch 39/100\n",
            "17/17 [==============================] - 0s 8ms/step - loss: 0.0016 - tanh_accuracy: 1.0000 - val_loss: 0.0016 - val_tanh_accuracy: 1.0000\n",
            "Epoch 40/100\n",
            "17/17 [==============================] - 0s 8ms/step - loss: 0.0016 - tanh_accuracy: 1.0000 - val_loss: 0.0016 - val_tanh_accuracy: 1.0000\n",
            "Epoch 41/100\n",
            "17/17 [==============================] - 0s 8ms/step - loss: 0.0015 - tanh_accuracy: 1.0000 - val_loss: 0.0016 - val_tanh_accuracy: 1.0000\n",
            "Epoch 42/100\n",
            "17/17 [==============================] - 0s 8ms/step - loss: 0.0015 - tanh_accuracy: 1.0000 - val_loss: 0.0015 - val_tanh_accuracy: 1.0000\n",
            "Epoch 43/100\n",
            "17/17 [==============================] - 0s 8ms/step - loss: 0.0015 - tanh_accuracy: 1.0000 - val_loss: 0.0015 - val_tanh_accuracy: 1.0000\n",
            "Epoch 44/100\n",
            "17/17 [==============================] - 0s 8ms/step - loss: 0.0014 - tanh_accuracy: 1.0000 - val_loss: 0.0014 - val_tanh_accuracy: 1.0000\n",
            "Epoch 45/100\n",
            "17/17 [==============================] - 0s 8ms/step - loss: 0.0014 - tanh_accuracy: 1.0000 - val_loss: 0.0014 - val_tanh_accuracy: 1.0000\n",
            "Epoch 46/100\n",
            "17/17 [==============================] - 0s 4ms/step - loss: 0.0014 - tanh_accuracy: 1.0000 - val_loss: 0.0014 - val_tanh_accuracy: 1.0000\n",
            "Epoch 47/100\n",
            "17/17 [==============================] - 0s 4ms/step - loss: 0.0013 - tanh_accuracy: 1.0000 - val_loss: 0.0014 - val_tanh_accuracy: 1.0000\n",
            "Epoch 48/100\n",
            "17/17 [==============================] - 0s 4ms/step - loss: 0.0013 - tanh_accuracy: 1.0000 - val_loss: 0.0013 - val_tanh_accuracy: 1.0000\n",
            "Epoch 49/100\n",
            "17/17 [==============================] - 0s 4ms/step - loss: 0.0013 - tanh_accuracy: 1.0000 - val_loss: 0.0013 - val_tanh_accuracy: 1.0000\n",
            "Epoch 50/100\n",
            "17/17 [==============================] - 0s 4ms/step - loss: 0.0013 - tanh_accuracy: 1.0000 - val_loss: 0.0013 - val_tanh_accuracy: 1.0000\n",
            "Epoch 51/100\n",
            "17/17 [==============================] - 0s 4ms/step - loss: 0.0012 - tanh_accuracy: 1.0000 - val_loss: 0.0012 - val_tanh_accuracy: 1.0000\n",
            "Epoch 52/100\n",
            "17/17 [==============================] - 0s 4ms/step - loss: 0.0012 - tanh_accuracy: 1.0000 - val_loss: 0.0012 - val_tanh_accuracy: 1.0000\n",
            "Epoch 53/100\n",
            "17/17 [==============================] - 0s 4ms/step - loss: 0.0012 - tanh_accuracy: 1.0000 - val_loss: 0.0012 - val_tanh_accuracy: 1.0000\n",
            "Epoch 54/100\n",
            "17/17 [==============================] - 0s 3ms/step - loss: 0.0012 - tanh_accuracy: 1.0000 - val_loss: 0.0012 - val_tanh_accuracy: 1.0000\n",
            "Epoch 55/100\n",
            "17/17 [==============================] - 0s 3ms/step - loss: 0.0011 - tanh_accuracy: 1.0000 - val_loss: 0.0012 - val_tanh_accuracy: 1.0000\n",
            "Epoch 56/100\n",
            "17/17 [==============================] - 0s 4ms/step - loss: 0.0011 - tanh_accuracy: 1.0000 - val_loss: 0.0011 - val_tanh_accuracy: 1.0000\n",
            "Epoch 57/100\n",
            "17/17 [==============================] - 0s 4ms/step - loss: 0.0011 - tanh_accuracy: 1.0000 - val_loss: 0.0011 - val_tanh_accuracy: 1.0000\n",
            "Epoch 58/100\n",
            "17/17 [==============================] - 0s 4ms/step - loss: 0.0011 - tanh_accuracy: 1.0000 - val_loss: 0.0011 - val_tanh_accuracy: 1.0000\n",
            "Epoch 59/100\n",
            "17/17 [==============================] - 0s 7ms/step - loss: 0.0011 - tanh_accuracy: 1.0000 - val_loss: 0.0011 - val_tanh_accuracy: 1.0000\n",
            "Epoch 60/100\n",
            "17/17 [==============================] - 0s 4ms/step - loss: 0.0010 - tanh_accuracy: 1.0000 - val_loss: 0.0011 - val_tanh_accuracy: 1.0000\n",
            "Epoch 61/100\n",
            "17/17 [==============================] - 0s 4ms/step - loss: 0.0010 - tanh_accuracy: 1.0000 - val_loss: 0.0010 - val_tanh_accuracy: 1.0000\n",
            "Epoch 62/100\n",
            "17/17 [==============================] - 0s 4ms/step - loss: 0.0010 - tanh_accuracy: 1.0000 - val_loss: 0.0010 - val_tanh_accuracy: 1.0000\n",
            "Epoch 63/100\n",
            "17/17 [==============================] - 0s 3ms/step - loss: 9.9154e-04 - tanh_accuracy: 1.0000 - val_loss: 0.0010 - val_tanh_accuracy: 1.0000\n",
            "Epoch 64/100\n",
            "17/17 [==============================] - 0s 4ms/step - loss: 9.7562e-04 - tanh_accuracy: 1.0000 - val_loss: 9.8681e-04 - val_tanh_accuracy: 1.0000\n",
            "Epoch 65/100\n",
            "17/17 [==============================] - 0s 3ms/step - loss: 9.6015e-04 - tanh_accuracy: 1.0000 - val_loss: 9.7127e-04 - val_tanh_accuracy: 1.0000\n",
            "Epoch 66/100\n",
            "17/17 [==============================] - 0s 4ms/step - loss: 9.4518e-04 - tanh_accuracy: 1.0000 - val_loss: 9.5621e-04 - val_tanh_accuracy: 1.0000\n",
            "Epoch 67/100\n",
            "17/17 [==============================] - 0s 4ms/step - loss: 9.3065e-04 - tanh_accuracy: 1.0000 - val_loss: 9.4154e-04 - val_tanh_accuracy: 1.0000\n",
            "Epoch 68/100\n",
            "17/17 [==============================] - 0s 4ms/step - loss: 9.1650e-04 - tanh_accuracy: 1.0000 - val_loss: 9.2738e-04 - val_tanh_accuracy: 1.0000\n",
            "Epoch 69/100\n",
            "17/17 [==============================] - 0s 3ms/step - loss: 9.0284e-04 - tanh_accuracy: 1.0000 - val_loss: 9.1365e-04 - val_tanh_accuracy: 1.0000\n",
            "Epoch 70/100\n",
            "17/17 [==============================] - 0s 7ms/step - loss: 8.8958e-04 - tanh_accuracy: 1.0000 - val_loss: 9.0030e-04 - val_tanh_accuracy: 1.0000\n",
            "Epoch 71/100\n",
            "17/17 [==============================] - 0s 4ms/step - loss: 8.7670e-04 - tanh_accuracy: 1.0000 - val_loss: 8.8731e-04 - val_tanh_accuracy: 1.0000\n",
            "Epoch 72/100\n",
            "17/17 [==============================] - 0s 3ms/step - loss: 8.6416e-04 - tanh_accuracy: 1.0000 - val_loss: 8.7466e-04 - val_tanh_accuracy: 1.0000\n",
            "Epoch 73/100\n",
            "17/17 [==============================] - 0s 4ms/step - loss: 8.5194e-04 - tanh_accuracy: 1.0000 - val_loss: 8.6240e-04 - val_tanh_accuracy: 1.0000\n",
            "Epoch 74/100\n",
            "17/17 [==============================] - 0s 4ms/step - loss: 8.4009e-04 - tanh_accuracy: 1.0000 - val_loss: 8.5046e-04 - val_tanh_accuracy: 1.0000\n",
            "Epoch 75/100\n",
            "17/17 [==============================] - 0s 4ms/step - loss: 8.2856e-04 - tanh_accuracy: 1.0000 - val_loss: 8.3887e-04 - val_tanh_accuracy: 1.0000\n",
            "Epoch 76/100\n",
            "17/17 [==============================] - 0s 4ms/step - loss: 8.1737e-04 - tanh_accuracy: 1.0000 - val_loss: 8.2758e-04 - val_tanh_accuracy: 1.0000\n",
            "Epoch 77/100\n",
            "17/17 [==============================] - 0s 4ms/step - loss: 8.0646e-04 - tanh_accuracy: 1.0000 - val_loss: 8.1659e-04 - val_tanh_accuracy: 1.0000\n",
            "Epoch 78/100\n",
            "17/17 [==============================] - 0s 6ms/step - loss: 7.9583e-04 - tanh_accuracy: 1.0000 - val_loss: 8.0587e-04 - val_tanh_accuracy: 1.0000\n",
            "Epoch 79/100\n",
            "17/17 [==============================] - 0s 3ms/step - loss: 7.8547e-04 - tanh_accuracy: 1.0000 - val_loss: 7.9545e-04 - val_tanh_accuracy: 1.0000\n",
            "Epoch 80/100\n",
            "17/17 [==============================] - 0s 4ms/step - loss: 7.7540e-04 - tanh_accuracy: 1.0000 - val_loss: 7.8530e-04 - val_tanh_accuracy: 1.0000\n",
            "Epoch 81/100\n",
            "17/17 [==============================] - 0s 6ms/step - loss: 7.6558e-04 - tanh_accuracy: 1.0000 - val_loss: 7.7539e-04 - val_tanh_accuracy: 1.0000\n",
            "Epoch 82/100\n",
            "17/17 [==============================] - 0s 3ms/step - loss: 7.5600e-04 - tanh_accuracy: 1.0000 - val_loss: 7.6572e-04 - val_tanh_accuracy: 1.0000\n",
            "Epoch 83/100\n",
            "17/17 [==============================] - 0s 4ms/step - loss: 7.4664e-04 - tanh_accuracy: 1.0000 - val_loss: 7.5630e-04 - val_tanh_accuracy: 1.0000\n",
            "Epoch 84/100\n",
            "17/17 [==============================] - 0s 4ms/step - loss: 7.3752e-04 - tanh_accuracy: 1.0000 - val_loss: 7.4710e-04 - val_tanh_accuracy: 1.0000\n",
            "Epoch 85/100\n",
            "17/17 [==============================] - 0s 6ms/step - loss: 7.2862e-04 - tanh_accuracy: 1.0000 - val_loss: 7.3813e-04 - val_tanh_accuracy: 1.0000\n",
            "Epoch 86/100\n",
            "17/17 [==============================] - 0s 4ms/step - loss: 7.1994e-04 - tanh_accuracy: 1.0000 - val_loss: 7.2935e-04 - val_tanh_accuracy: 1.0000\n",
            "Epoch 87/100\n",
            "17/17 [==============================] - 0s 4ms/step - loss: 7.1143e-04 - tanh_accuracy: 1.0000 - val_loss: 7.2078e-04 - val_tanh_accuracy: 1.0000\n",
            "Epoch 88/100\n",
            "17/17 [==============================] - 0s 4ms/step - loss: 7.0313e-04 - tanh_accuracy: 1.0000 - val_loss: 7.1242e-04 - val_tanh_accuracy: 1.0000\n",
            "Epoch 89/100\n",
            "17/17 [==============================] - 0s 4ms/step - loss: 6.9504e-04 - tanh_accuracy: 1.0000 - val_loss: 7.0424e-04 - val_tanh_accuracy: 1.0000\n",
            "Epoch 90/100\n",
            "17/17 [==============================] - 0s 4ms/step - loss: 6.8712e-04 - tanh_accuracy: 1.0000 - val_loss: 6.9623e-04 - val_tanh_accuracy: 1.0000\n",
            "Epoch 91/100\n",
            "17/17 [==============================] - 0s 4ms/step - loss: 6.7937e-04 - tanh_accuracy: 1.0000 - val_loss: 6.8843e-04 - val_tanh_accuracy: 1.0000\n",
            "Epoch 92/100\n",
            "17/17 [==============================] - 0s 4ms/step - loss: 6.7180e-04 - tanh_accuracy: 1.0000 - val_loss: 6.8080e-04 - val_tanh_accuracy: 1.0000\n",
            "Epoch 93/100\n",
            "17/17 [==============================] - 0s 4ms/step - loss: 6.6441e-04 - tanh_accuracy: 1.0000 - val_loss: 6.7332e-04 - val_tanh_accuracy: 1.0000\n",
            "Epoch 94/100\n",
            "17/17 [==============================] - 0s 4ms/step - loss: 6.5717e-04 - tanh_accuracy: 1.0000 - val_loss: 6.6600e-04 - val_tanh_accuracy: 1.0000\n",
            "Epoch 95/100\n",
            "17/17 [==============================] - 0s 4ms/step - loss: 6.5006e-04 - tanh_accuracy: 1.0000 - val_loss: 6.5885e-04 - val_tanh_accuracy: 1.0000\n",
            "Epoch 96/100\n",
            "17/17 [==============================] - 0s 4ms/step - loss: 6.4315e-04 - tanh_accuracy: 1.0000 - val_loss: 6.5185e-04 - val_tanh_accuracy: 1.0000\n",
            "Epoch 97/100\n",
            "17/17 [==============================] - 0s 4ms/step - loss: 6.3635e-04 - tanh_accuracy: 1.0000 - val_loss: 6.4499e-04 - val_tanh_accuracy: 1.0000\n",
            "Epoch 98/100\n",
            "17/17 [==============================] - 0s 4ms/step - loss: 6.2970e-04 - tanh_accuracy: 1.0000 - val_loss: 6.3825e-04 - val_tanh_accuracy: 1.0000\n",
            "Epoch 99/100\n",
            "17/17 [==============================] - 0s 4ms/step - loss: 6.2317e-04 - tanh_accuracy: 1.0000 - val_loss: 6.3156e-04 - val_tanh_accuracy: 1.0000\n",
            "Epoch 100/100\n",
            "17/17 [==============================] - 0s 4ms/step - loss: 6.1668e-04 - tanh_accuracy: 1.0000 - val_loss: 6.2510e-04 - val_tanh_accuracy: 1.0000\n"
          ]
        },
        {
          "output_type": "execute_result",
          "data": {
            "text/plain": [
              "array([[-0.08886333]], dtype=float32)"
            ]
          },
          "metadata": {},
          "execution_count": 17
        }
      ]
    },
    {
      "cell_type": "code",
      "source": [
        "#訓練を実行した後なら見れる\n",
        "model.summary()"
      ],
      "metadata": {
        "colab": {
          "base_uri": "https://localhost:8080/"
        },
        "id": "C3M7Dsu8vkb8",
        "outputId": "c37e740d-fc23-4319-ad92-6b521412b52c"
      },
      "execution_count": 18,
      "outputs": [
        {
          "output_type": "stream",
          "name": "stdout",
          "text": [
            "Model: \"neural_network\"\n",
            "_________________________________________________________________\n",
            " Layer (type)                Output Shape              Param #   \n",
            "=================================================================\n",
            " layer1 (Dense)              multiple                  9         \n",
            "                                                                 \n",
            " layer2 (Dense)              multiple                  12        \n",
            "                                                                 \n",
            " layer_out (Dense)           multiple                  4         \n",
            "                                                                 \n",
            "=================================================================\n",
            "Total params: 25\n",
            "Trainable params: 25\n",
            "Non-trainable params: 0\n",
            "_________________________________________________________________\n"
          ]
        }
      ]
    }
  ]
}